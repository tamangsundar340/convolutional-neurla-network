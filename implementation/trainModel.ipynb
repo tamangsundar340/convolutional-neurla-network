{
 "cells": [
  {
   "cell_type": "markdown",
   "id": "d5358382",
   "metadata": {},
   "source": [
    "**load libraries**"
   ]
  },
  {
   "cell_type": "code",
   "execution_count": 1,
   "id": "452c81b9",
   "metadata": {},
   "outputs": [],
   "source": [
    "import os\n",
    "import sys\n",
    "import pandas as pd\n",
    "import numpy as np\n",
    "import matplotlib.pyplot as plt\n",
    "from sklearn.utils import class_weight, shuffle\n",
    "from sklearn.model_selection import train_test_split\n",
    "import shutil\n",
    "import cv2\n",
    "import tensorflow as tf\n",
    "import seaborn as sns\n",
    "%matplotlib inline\n",
    "from PIL import Image, ImageFile\n",
    "ImageFile.LOAD_TRUNCATED_IMAGES = True\n",
    "from sklearn.preprocessing import LabelBinarizer\n",
    "from sklearn.metrics import confusion_matrix, classification_report\n",
    "from tensorflow.keras.callbacks import ReduceLROnPlateau, EarlyStopping,ModelCheckpoint\n",
    "from tensorflow.keras.layers import Activation, Conv2D, MaxPooling2D,MaxPool2D,AveragePooling2D,GlobalAveragePooling2D,GlobalMaxPooling2D\n",
    "from tensorflow.keras import backend as K\n",
    "from tensorflow.keras.layers import BatchNormalization\n",
    "from tensorflow.keras.optimizers import Adam\n",
    "from tensorflow.keras.models import Model, Sequential, load_model\n",
    "from tensorflow.keras.layers import Input, Dense, Flatten, Dropout, AveragePooling2D\n",
    "from sklearn.metrics import accuracy_score, classification_report\n",
    "import seaborn as sns\n",
    "from sklearn.metrics import confusion_matrix"
   ]
  },
  {
   "cell_type": "code",
   "execution_count": 2,
   "id": "8a142ae8",
   "metadata": {},
   "outputs": [
    {
     "name": "stdout",
     "output_type": "stream",
     "text": [
      "Wall time: 59.9 s\n"
     ]
    }
   ],
   "source": [
    "%%time\n",
    "data = np.load('image_data.npy')\n",
    "labels = np.load('label_data.npy')"
   ]
  },
  {
   "cell_type": "code",
   "execution_count": 3,
   "id": "9bbceba1",
   "metadata": {},
   "outputs": [
    {
     "name": "stdout",
     "output_type": "stream",
     "text": [
      "Dimension of image array  :  4\n",
      "Shape of image array :  (4638, 224, 224, 3)\n",
      "Dimension of label  :  1\n",
      "Shape of label :  (4638,)\n"
     ]
    }
   ],
   "source": [
    "#shape of array\n",
    "print(\"Dimension of image array  : \",data.ndim)\n",
    "print(\"Shape of image array : \", data.shape)\n",
    "print(\"Dimension of label  : \",labels.ndim)\n",
    "print(\"Shape of label : \",labels.shape)"
   ]
  },
  {
   "cell_type": "markdown",
   "id": "49a8daab",
   "metadata": {},
   "source": [
    "**declare variable**"
   ]
  },
  {
   "cell_type": "code",
   "execution_count": 4,
   "id": "f425dfa9",
   "metadata": {},
   "outputs": [],
   "source": [
    "split_ratio = 0.2\n",
    "inp_size = (224,224,3)\n",
    "batch_size = 32\n",
    "epoches = 100\n",
    "lr = 1e-3\n",
    "seed = 42"
   ]
  },
  {
   "cell_type": "markdown",
   "id": "04c678dd",
   "metadata": {},
   "source": [
    "**encoding**"
   ]
  },
  {
   "cell_type": "code",
   "execution_count": 5,
   "id": "45d6e05c",
   "metadata": {},
   "outputs": [],
   "source": [
    "lb = LabelBinarizer()\n",
    "def encode_label(labels):\n",
    "    \"\"\"\n",
    "    Binalizes label in one-to-all fashion\n",
    "    INPUT\n",
    "        labels: NumPy array, an array with the labels of the image\n",
    "    OUTPUT\n",
    "        Binalized labels NumPy array\n",
    "    \"\"\"\n",
    "    return lb.fit_transform(labels)\n",
    "\n",
    "def reverse_label_encoding(labels):\n",
    "    \"\"\"\n",
    "    Reverses the binalization of a label\n",
    "    INPUT\n",
    "        labels: Binalized NumPy array of image data labels\n",
    "    OUTPUT\n",
    "        NumPy array of the original label of the image data\n",
    "    \"\"\"    \n",
    "    return lb.inverse_transform(labels)\n",
    "\n",
    "labels = encode_label(labels)"
   ]
  },
  {
   "cell_type": "code",
   "execution_count": 6,
   "id": "f8dfd24b",
   "metadata": {},
   "outputs": [
    {
     "data": {
      "text/plain": [
       "array([[1, 0, 0],\n",
       "       [1, 0, 0],\n",
       "       [1, 0, 0],\n",
       "       ...,\n",
       "       [0, 0, 1],\n",
       "       [0, 0, 1],\n",
       "       [0, 0, 1]])"
      ]
     },
     "execution_count": 6,
     "metadata": {},
     "output_type": "execute_result"
    }
   ],
   "source": [
    "labels"
   ]
  },
  {
   "cell_type": "code",
   "execution_count": 7,
   "id": "5576512a",
   "metadata": {},
   "outputs": [
    {
     "data": {
      "text/plain": [
       "array([0, 0, 0, ..., 2, 2, 2])"
      ]
     },
     "execution_count": 7,
     "metadata": {},
     "output_type": "execute_result"
    }
   ],
   "source": [
    "reverse_label_encoding(labels)"
   ]
  },
  {
   "cell_type": "markdown",
   "id": "867be5bd",
   "metadata": {},
   "source": [
    "**split data**"
   ]
  },
  {
   "cell_type": "code",
   "execution_count": 8,
   "id": "0efdb32c",
   "metadata": {},
   "outputs": [
    {
     "name": "stdout",
     "output_type": "stream",
     "text": [
      "Wall time: 1min 42s\n"
     ]
    }
   ],
   "source": [
    "%%time\n",
    "x_train_full, x_test, y_train_full, y_test = train_test_split(\n",
    "    data, labels, \n",
    "    stratify=labels, \n",
    "    test_size = split_ratio, \n",
    "    random_state = seed\n",
    ")\n",
    "x_train, x_valid, y_train, y_valid = train_test_split(\n",
    "    x_train_full, \n",
    "    y_train_full, \n",
    "    stratify = y_train_full, \n",
    "    test_size = split_ratio,\n",
    "    random_state = seed\n",
    ")"
   ]
  },
  {
   "cell_type": "markdown",
   "id": "ad86ae1d",
   "metadata": {},
   "source": [
    "**model build**"
   ]
  },
  {
   "cell_type": "code",
   "execution_count": 9,
   "id": "803ff2ae",
   "metadata": {},
   "outputs": [],
   "source": [
    "model = Sequential()\n",
    "\n",
    "model.add(Conv2D(64, kernel_size = (3, 3),activation='relu',padding = 'Same',input_shape = inp_size))\n",
    "model.add(MaxPooling2D(pool_size = (2, 2)))\n",
    "\n",
    "##############################\n",
    "model.add(Conv2D(128, (3, 3), activation='relu',padding = 'Same'))\n",
    "model.add(MaxPooling2D(pool_size = (2, 2)))\n",
    "model.add(Dropout(0.25))\n",
    "\n",
    "model.add(Conv2D(256, (3, 3), activation = 'relu',padding = 'Same'))\n",
    "model.add(MaxPooling2D(pool_size = (2, 2)))\n",
    "model.add(Dropout(0.25))\n",
    "\n",
    "##############################\n",
    "model.add(Conv2D(512, (3, 3), activation='relu',padding = 'Same'))\n",
    "model.add(MaxPooling2D(pool_size = (2, 2)))\n",
    "model.add(Dropout(0.25))\n",
    "\n",
    "model.add(Conv2D(512, (3, 3), activation='relu',padding = 'Same'))\n",
    "model.add(MaxPooling2D(pool_size = (2, 2)))\n",
    "model.add(Flatten())\n",
    "\n",
    "##############################\n",
    "model.add(Dense(4096, activation = 'relu'))\n",
    "model.add(Activation('relu')) \n",
    "model.add(Dropout(0.25))\n",
    "#Output\n",
    "model.add(Dense(3, activation='softmax'))"
   ]
  },
  {
   "cell_type": "markdown",
   "id": "adc9db7f",
   "metadata": {},
   "source": [
    "**compile model**"
   ]
  },
  {
   "cell_type": "code",
   "execution_count": 10,
   "id": "cc3df663",
   "metadata": {},
   "outputs": [],
   "source": [
    "opt = Adam(lr = 0.002, beta_1 = 0.9, beta_2 = 0.999, epsilon = None, decay = 0.01, amsgrad = False)\n",
    "model.compile(optimizer = opt, loss='categorical_crossentropy', metrics = ['accuracy'])"
   ]
  },
  {
   "cell_type": "markdown",
   "id": "f6347463",
   "metadata": {},
   "source": [
    "**callback**"
   ]
  },
  {
   "cell_type": "code",
   "execution_count": 11,
   "id": "de2166b5",
   "metadata": {},
   "outputs": [],
   "source": [
    "learning_rate_reduction = ReduceLROnPlateau(\n",
    "    monitor = 'val_loss', \n",
    "    patience = 10, \n",
    "    verbose = 0, \n",
    "    factor = 0.5, \n",
    "    min_lr = 0.00001\n",
    ")\n",
    "early_stopping = EarlyStopping(\n",
    "    patience = 10,\n",
    "    monitor = 'val_loss', \n",
    "    mode = 'min',\n",
    "    restore_best_weights = True, \n",
    "    verbose=0\n",
    ")\n",
    "mc = ModelCheckpoint(\n",
    "    'cust/weights', \n",
    "    monitor = 'val_loss',\n",
    "    mode = 'min', \n",
    "    verbose = 1, \n",
    "    save_best_only = True, \n",
    "    save_weights_only = True\n",
    ")\n",
    "callbacks_list = [learning_rate_reduction, early_stopping, mc]\n"
   ]
  },
  {
   "cell_type": "markdown",
   "id": "5dd33456",
   "metadata": {},
   "source": [
    "**model fit**"
   ]
  },
  {
   "cell_type": "code",
   "execution_count": 12,
   "id": "013275a4",
   "metadata": {
    "scrolled": true
   },
   "outputs": [
    {
     "name": "stdout",
     "output_type": "stream",
     "text": [
      "Epoch 1/100\n",
      "93/93 [==============================] - ETA: 0s - loss: 3.3585 - accuracy: 0.5620\n",
      "Epoch 00001: val_loss improved from inf to 0.64256, saving model to cust\\weights\n",
      "93/93 [==============================] - 797s 9s/step - loss: 3.3585 - accuracy: 0.5620 - val_loss: 0.6426 - val_accuracy: 0.7358\n",
      "Epoch 2/100\n",
      "93/93 [==============================] - ETA: 0s - loss: 0.6038 - accuracy: 0.7571\n",
      "Epoch 00002: val_loss improved from 0.64256 to 0.60881, saving model to cust\\weights\n",
      "93/93 [==============================] - 748s 8s/step - loss: 0.6038 - accuracy: 0.7571 - val_loss: 0.6088 - val_accuracy: 0.7938\n",
      "Epoch 3/100\n",
      "93/93 [==============================] - ETA: 0s - loss: 0.5358 - accuracy: 0.7864\n",
      "Epoch 00003: val_loss improved from 0.60881 to 0.53822, saving model to cust\\weights\n",
      "93/93 [==============================] - 757s 8s/step - loss: 0.5358 - accuracy: 0.7864 - val_loss: 0.5382 - val_accuracy: 0.7628\n",
      "Epoch 4/100\n",
      "93/93 [==============================] - ETA: 0s - loss: 0.5197 - accuracy: 0.7982\n",
      "Epoch 00004: val_loss improved from 0.53822 to 0.50981, saving model to cust\\weights\n",
      "93/93 [==============================] - 775s 8s/step - loss: 0.5197 - accuracy: 0.7982 - val_loss: 0.5098 - val_accuracy: 0.7992\n",
      "Epoch 5/100\n",
      "93/93 [==============================] - ETA: 0s - loss: 0.4913 - accuracy: 0.8049\n",
      "Epoch 00005: val_loss improved from 0.50981 to 0.49253, saving model to cust\\weights\n",
      "93/93 [==============================] - 811s 9s/step - loss: 0.4913 - accuracy: 0.8049 - val_loss: 0.4925 - val_accuracy: 0.8032\n",
      "Epoch 6/100\n",
      "93/93 [==============================] - ETA: 0s - loss: 0.4859 - accuracy: 0.8083\n",
      "Epoch 00006: val_loss improved from 0.49253 to 0.48867, saving model to cust\\weights\n",
      "93/93 [==============================] - 723s 8s/step - loss: 0.4859 - accuracy: 0.8083 - val_loss: 0.4887 - val_accuracy: 0.7911\n",
      "Epoch 7/100\n",
      "93/93 [==============================] - ETA: 0s - loss: 0.4678 - accuracy: 0.8130\n",
      "Epoch 00007: val_loss improved from 0.48867 to 0.48844, saving model to cust\\weights\n",
      "93/93 [==============================] - 699s 8s/step - loss: 0.4678 - accuracy: 0.8130 - val_loss: 0.4884 - val_accuracy: 0.8073\n",
      "Epoch 8/100\n",
      "93/93 [==============================] - ETA: 0s - loss: 0.4540 - accuracy: 0.8211\n",
      "Epoch 00008: val_loss improved from 0.48844 to 0.46207, saving model to cust\\weights\n",
      "93/93 [==============================] - 703s 8s/step - loss: 0.4540 - accuracy: 0.8211 - val_loss: 0.4621 - val_accuracy: 0.8127\n",
      "Epoch 9/100\n",
      "93/93 [==============================] - ETA: 0s - loss: 0.4416 - accuracy: 0.8268\n",
      "Epoch 00009: val_loss improved from 0.46207 to 0.45490, saving model to cust\\weights\n",
      "93/93 [==============================] - 699s 8s/step - loss: 0.4416 - accuracy: 0.8268 - val_loss: 0.4549 - val_accuracy: 0.8140\n",
      "Epoch 10/100\n",
      "93/93 [==============================] - ETA: 0s - loss: 0.4372 - accuracy: 0.8282\n",
      "Epoch 00010: val_loss did not improve from 0.45490\n",
      "93/93 [==============================] - 684s 7s/step - loss: 0.4372 - accuracy: 0.8282 - val_loss: 0.4628 - val_accuracy: 0.8221\n",
      "Epoch 11/100\n",
      "93/93 [==============================] - ETA: 0s - loss: 0.4251 - accuracy: 0.8356\n",
      "Epoch 00011: val_loss improved from 0.45490 to 0.45153, saving model to cust\\weights\n",
      "93/93 [==============================] - 705s 8s/step - loss: 0.4251 - accuracy: 0.8356 - val_loss: 0.4515 - val_accuracy: 0.8302\n",
      "Epoch 12/100\n",
      "93/93 [==============================] - ETA: 0s - loss: 0.4155 - accuracy: 0.8467\n",
      "Epoch 00012: val_loss improved from 0.45153 to 0.43938, saving model to cust\\weights\n",
      "93/93 [==============================] - 839s 9s/step - loss: 0.4155 - accuracy: 0.8467 - val_loss: 0.4394 - val_accuracy: 0.8302\n",
      "Epoch 13/100\n",
      "93/93 [==============================] - ETA: 0s - loss: 0.4042 - accuracy: 0.8460\n",
      "Epoch 00013: val_loss did not improve from 0.43938\n",
      "93/93 [==============================] - 730s 8s/step - loss: 0.4042 - accuracy: 0.8460 - val_loss: 0.4592 - val_accuracy: 0.8194\n",
      "Epoch 14/100\n",
      "93/93 [==============================] - ETA: 0s - loss: 0.4044 - accuracy: 0.8420\n",
      "Epoch 00014: val_loss improved from 0.43938 to 0.43138, saving model to cust\\weights\n",
      "93/93 [==============================] - 721s 8s/step - loss: 0.4044 - accuracy: 0.8420 - val_loss: 0.4314 - val_accuracy: 0.8464\n",
      "Epoch 15/100\n",
      "93/93 [==============================] - ETA: 0s - loss: 0.3911 - accuracy: 0.8511\n",
      "Epoch 00015: val_loss improved from 0.43138 to 0.42151, saving model to cust\\weights\n",
      "93/93 [==============================] - 733s 8s/step - loss: 0.3911 - accuracy: 0.8511 - val_loss: 0.4215 - val_accuracy: 0.8423\n",
      "Epoch 16/100\n",
      "93/93 [==============================] - ETA: 0s - loss: 0.3840 - accuracy: 0.8507\n",
      "Epoch 00016: val_loss improved from 0.42151 to 0.42020, saving model to cust\\weights\n",
      "93/93 [==============================] - 803s 9s/step - loss: 0.3840 - accuracy: 0.8507 - val_loss: 0.4202 - val_accuracy: 0.8464\n",
      "Epoch 17/100\n",
      "93/93 [==============================] - ETA: 0s - loss: 0.3853 - accuracy: 0.8524\n",
      "Epoch 00017: val_loss improved from 0.42020 to 0.41602, saving model to cust\\weights\n",
      "93/93 [==============================] - 786s 8s/step - loss: 0.3853 - accuracy: 0.8524 - val_loss: 0.4160 - val_accuracy: 0.8477\n",
      "Epoch 18/100\n",
      "93/93 [==============================] - ETA: 0s - loss: 0.3817 - accuracy: 0.8568  \n",
      "Epoch 00018: val_loss improved from 0.41602 to 0.41439, saving model to cust\\weights\n",
      "93/93 [==============================] - 30378s 327s/step - loss: 0.3817 - accuracy: 0.8568 - val_loss: 0.4144 - val_accuracy: 0.8491\n",
      "Epoch 19/100\n",
      "93/93 [==============================] - ETA: 0s - loss: 0.3704 - accuracy: 0.8578\n",
      "Epoch 00019: val_loss did not improve from 0.41439\n",
      "93/93 [==============================] - 693s 7s/step - loss: 0.3704 - accuracy: 0.8578 - val_loss: 0.4202 - val_accuracy: 0.8437\n",
      "Epoch 20/100\n",
      "93/93 [==============================] - ETA: 0s - loss: 0.3656 - accuracy: 0.8629\n",
      "Epoch 00020: val_loss improved from 0.41439 to 0.40705, saving model to cust\\weights\n",
      "93/93 [==============================] - 785s 8s/step - loss: 0.3656 - accuracy: 0.8629 - val_loss: 0.4070 - val_accuracy: 0.8544\n",
      "Epoch 21/100\n",
      "93/93 [==============================] - ETA: 0s - loss: 0.3613 - accuracy: 0.8619\n",
      "Epoch 00021: val_loss did not improve from 0.40705\n",
      "93/93 [==============================] - 690s 7s/step - loss: 0.3613 - accuracy: 0.8619 - val_loss: 0.4184 - val_accuracy: 0.8477\n",
      "Epoch 22/100\n",
      "93/93 [==============================] - ETA: 0s - loss: 0.3594 - accuracy: 0.8649\n",
      "Epoch 00022: val_loss improved from 0.40705 to 0.40370, saving model to cust\\weights\n",
      "93/93 [==============================] - 735s 8s/step - loss: 0.3594 - accuracy: 0.8649 - val_loss: 0.4037 - val_accuracy: 0.8450\n",
      "Epoch 23/100\n",
      "93/93 [==============================] - ETA: 0s - loss: 0.3563 - accuracy: 0.8632\n",
      "Epoch 00023: val_loss improved from 0.40370 to 0.39782, saving model to cust\\weights\n",
      "93/93 [==============================] - 932s 10s/step - loss: 0.3563 - accuracy: 0.8632 - val_loss: 0.3978 - val_accuracy: 0.8571\n",
      "Epoch 24/100\n",
      "93/93 [==============================] - ETA: 0s - loss: 0.3460 - accuracy: 0.8652\n",
      "Epoch 00024: val_loss did not improve from 0.39782\n",
      "93/93 [==============================] - 781s 8s/step - loss: 0.3460 - accuracy: 0.8652 - val_loss: 0.3993 - val_accuracy: 0.8598\n",
      "Epoch 25/100\n",
      "93/93 [==============================] - ETA: 0s - loss: 0.3440 - accuracy: 0.8676\n",
      "Epoch 00025: val_loss did not improve from 0.39782\n",
      "93/93 [==============================] - 704s 8s/step - loss: 0.3440 - accuracy: 0.8676 - val_loss: 0.3992 - val_accuracy: 0.8477\n",
      "Epoch 26/100\n",
      "93/93 [==============================] - ETA: 0s - loss: 0.3426 - accuracy: 0.8693\n",
      "Epoch 00026: val_loss did not improve from 0.39782\n",
      "93/93 [==============================] - 684s 7s/step - loss: 0.3426 - accuracy: 0.8693 - val_loss: 0.4020 - val_accuracy: 0.8598\n",
      "Epoch 27/100\n",
      "93/93 [==============================] - ETA: 0s - loss: 0.3385 - accuracy: 0.8669\n",
      "Epoch 00027: val_loss did not improve from 0.39782\n",
      "93/93 [==============================] - 681s 7s/step - loss: 0.3385 - accuracy: 0.8669 - val_loss: 0.4041 - val_accuracy: 0.8558\n",
      "Epoch 28/100\n"
     ]
    },
    {
     "name": "stdout",
     "output_type": "stream",
     "text": [
      "93/93 [==============================] - ETA: 0s - loss: 0.3345 - accuracy: 0.8642\n",
      "Epoch 00028: val_loss improved from 0.39782 to 0.39749, saving model to cust\\weights\n",
      "93/93 [==============================] - 697s 7s/step - loss: 0.3345 - accuracy: 0.8642 - val_loss: 0.3975 - val_accuracy: 0.8544\n",
      "Epoch 29/100\n",
      "93/93 [==============================] - ETA: 0s - loss: 0.3228 - accuracy: 0.8747\n",
      "Epoch 00029: val_loss improved from 0.39749 to 0.39167, saving model to cust\\weights\n",
      "93/93 [==============================] - 695s 7s/step - loss: 0.3228 - accuracy: 0.8747 - val_loss: 0.3917 - val_accuracy: 0.8598\n",
      "Epoch 30/100\n",
      "93/93 [==============================] - ETA: 0s - loss: 0.3245 - accuracy: 0.8716\n",
      "Epoch 00030: val_loss did not improve from 0.39167\n",
      "93/93 [==============================] - 677s 7s/step - loss: 0.3245 - accuracy: 0.8716 - val_loss: 0.3921 - val_accuracy: 0.8544\n",
      "Epoch 31/100\n",
      "93/93 [==============================] - ETA: 0s - loss: 0.3217 - accuracy: 0.8767\n",
      "Epoch 00031: val_loss did not improve from 0.39167\n",
      "93/93 [==============================] - 678s 7s/step - loss: 0.3217 - accuracy: 0.8767 - val_loss: 0.4040 - val_accuracy: 0.8625\n",
      "Epoch 32/100\n",
      "93/93 [==============================] - ETA: 0s - loss: 0.3087 - accuracy: 0.8804\n",
      "Epoch 00032: val_loss did not improve from 0.39167\n",
      "93/93 [==============================] - 676s 7s/step - loss: 0.3087 - accuracy: 0.8804 - val_loss: 0.3949 - val_accuracy: 0.8625\n",
      "Epoch 33/100\n",
      "93/93 [==============================] - ETA: 0s - loss: 0.3127 - accuracy: 0.8801\n",
      "Epoch 00033: val_loss did not improve from 0.39167\n",
      "93/93 [==============================] - 680s 7s/step - loss: 0.3127 - accuracy: 0.8801 - val_loss: 0.4027 - val_accuracy: 0.8612\n",
      "Epoch 34/100\n",
      "93/93 [==============================] - ETA: 0s - loss: 0.3103 - accuracy: 0.8797\n",
      "Epoch 00034: val_loss did not improve from 0.39167\n",
      "93/93 [==============================] - 807s 9s/step - loss: 0.3103 - accuracy: 0.8797 - val_loss: 0.4046 - val_accuracy: 0.8571\n",
      "Epoch 35/100\n",
      "93/93 [==============================] - ETA: 0s - loss: 0.3029 - accuracy: 0.8811 \n",
      "Epoch 00035: val_loss improved from 0.39167 to 0.39053, saving model to cust\\weights\n",
      "93/93 [==============================] - 1029s 11s/step - loss: 0.3029 - accuracy: 0.8811 - val_loss: 0.3905 - val_accuracy: 0.8625\n",
      "Epoch 36/100\n",
      "93/93 [==============================] - ETA: 0s - loss: 0.3019 - accuracy: 0.8834\n",
      "Epoch 00036: val_loss improved from 0.39053 to 0.38217, saving model to cust\\weights\n",
      "93/93 [==============================] - 886s 10s/step - loss: 0.3019 - accuracy: 0.8834 - val_loss: 0.3822 - val_accuracy: 0.8693\n",
      "Epoch 37/100\n",
      "93/93 [==============================] - ETA: 0s - loss: 0.3010 - accuracy: 0.8868\n",
      "Epoch 00037: val_loss did not improve from 0.38217\n",
      "93/93 [==============================] - 757s 8s/step - loss: 0.3010 - accuracy: 0.8868 - val_loss: 0.3945 - val_accuracy: 0.8571\n",
      "Epoch 38/100\n",
      "93/93 [==============================] - ETA: 0s - loss: 0.2921 - accuracy: 0.8868\n",
      "Epoch 00038: val_loss did not improve from 0.38217\n",
      "93/93 [==============================] - 789s 8s/step - loss: 0.2921 - accuracy: 0.8868 - val_loss: 0.3977 - val_accuracy: 0.8571\n",
      "Epoch 39/100\n",
      "93/93 [==============================] - ETA: 0s - loss: 0.2926 - accuracy: 0.8895\n",
      "Epoch 00039: val_loss did not improve from 0.38217\n",
      "93/93 [==============================] - 731s 8s/step - loss: 0.2926 - accuracy: 0.8895 - val_loss: 0.3873 - val_accuracy: 0.8612\n",
      "Epoch 40/100\n",
      "93/93 [==============================] - ETA: 0s - loss: 0.2880 - accuracy: 0.8841\n",
      "Epoch 00040: val_loss did not improve from 0.38217\n",
      "93/93 [==============================] - 752s 8s/step - loss: 0.2880 - accuracy: 0.8841 - val_loss: 0.3870 - val_accuracy: 0.8598\n",
      "Epoch 41/100\n",
      "93/93 [==============================] - ETA: 0s - loss: 0.2905 - accuracy: 0.8915\n",
      "Epoch 00041: val_loss improved from 0.38217 to 0.37655, saving model to cust\\weights\n",
      "93/93 [==============================] - 827s 9s/step - loss: 0.2905 - accuracy: 0.8915 - val_loss: 0.3766 - val_accuracy: 0.8706\n",
      "Epoch 42/100\n",
      "93/93 [==============================] - ETA: 0s - loss: 0.2737 - accuracy: 0.8986\n",
      "Epoch 00042: val_loss did not improve from 0.37655\n",
      "93/93 [==============================] - 757s 8s/step - loss: 0.2737 - accuracy: 0.8986 - val_loss: 0.3838 - val_accuracy: 0.8612\n",
      "Epoch 43/100\n",
      "93/93 [==============================] - ETA: 0s - loss: 0.2719 - accuracy: 0.8956\n",
      "Epoch 00043: val_loss did not improve from 0.37655\n",
      "93/93 [==============================] - 784s 8s/step - loss: 0.2719 - accuracy: 0.8956 - val_loss: 0.3769 - val_accuracy: 0.8652\n",
      "Epoch 44/100\n",
      "93/93 [==============================] - ETA: 0s - loss: 0.2669 - accuracy: 0.8972\n",
      "Epoch 00044: val_loss did not improve from 0.37655\n",
      "93/93 [==============================] - 816s 9s/step - loss: 0.2669 - accuracy: 0.8972 - val_loss: 0.3810 - val_accuracy: 0.8679\n",
      "Epoch 45/100\n",
      "93/93 [==============================] - ETA: 0s - loss: 0.2753 - accuracy: 0.8888\n",
      "Epoch 00045: val_loss did not improve from 0.37655\n",
      "93/93 [==============================] - 797s 9s/step - loss: 0.2753 - accuracy: 0.8888 - val_loss: 0.3804 - val_accuracy: 0.8598\n",
      "Epoch 46/100\n",
      "93/93 [==============================] - ETA: 0s - loss: 0.2594 - accuracy: 0.8989\n",
      "Epoch 00046: val_loss improved from 0.37655 to 0.37588, saving model to cust\\weights\n",
      "93/93 [==============================] - 723s 8s/step - loss: 0.2594 - accuracy: 0.8989 - val_loss: 0.3759 - val_accuracy: 0.8652\n",
      "Epoch 47/100\n",
      "93/93 [==============================] - ETA: 0s - loss: 0.2642 - accuracy: 0.8956\n",
      "Epoch 00047: val_loss did not improve from 0.37588\n",
      "93/93 [==============================] - 820s 9s/step - loss: 0.2642 - accuracy: 0.8956 - val_loss: 0.3807 - val_accuracy: 0.8639\n",
      "Epoch 48/100\n",
      "93/93 [==============================] - ETA: 0s - loss: 0.2556 - accuracy: 0.8982\n",
      "Epoch 00048: val_loss improved from 0.37588 to 0.37242, saving model to cust\\weights\n",
      "93/93 [==============================] - 795s 9s/step - loss: 0.2556 - accuracy: 0.8982 - val_loss: 0.3724 - val_accuracy: 0.8666\n",
      "Epoch 49/100\n",
      "93/93 [==============================] - ETA: 0s - loss: 0.2602 - accuracy: 0.8962\n",
      "Epoch 00049: val_loss did not improve from 0.37242\n",
      "93/93 [==============================] - 819s 9s/step - loss: 0.2602 - accuracy: 0.8962 - val_loss: 0.3967 - val_accuracy: 0.8571\n",
      "Epoch 50/100\n",
      "93/93 [==============================] - ETA: 0s - loss: 0.2521 - accuracy: 0.9020\n",
      "Epoch 00050: val_loss did not improve from 0.37242\n",
      "93/93 [==============================] - 831s 9s/step - loss: 0.2521 - accuracy: 0.9020 - val_loss: 0.3953 - val_accuracy: 0.8598\n",
      "Epoch 51/100\n",
      "93/93 [==============================] - ETA: 0s - loss: 0.2466 - accuracy: 0.9020\n",
      "Epoch 00051: val_loss did not improve from 0.37242\n",
      "93/93 [==============================] - 823s 9s/step - loss: 0.2466 - accuracy: 0.9020 - val_loss: 0.3895 - val_accuracy: 0.8652\n",
      "Epoch 52/100\n",
      "93/93 [==============================] - ETA: 0s - loss: 0.2478 - accuracy: 0.9023\n",
      "Epoch 00052: val_loss did not improve from 0.37242\n",
      "93/93 [==============================] - 817s 9s/step - loss: 0.2478 - accuracy: 0.9023 - val_loss: 0.4056 - val_accuracy: 0.8571\n",
      "Epoch 53/100\n",
      "93/93 [==============================] - ETA: 0s - loss: 0.2439 - accuracy: 0.9046\n",
      "Epoch 00053: val_loss did not improve from 0.37242\n",
      "93/93 [==============================] - 815s 9s/step - loss: 0.2439 - accuracy: 0.9046 - val_loss: 0.3810 - val_accuracy: 0.8612\n",
      "Epoch 54/100\n",
      "93/93 [==============================] - ETA: 0s - loss: 0.2413 - accuracy: 0.9033\n",
      "Epoch 00054: val_loss did not improve from 0.37242\n",
      "93/93 [==============================] - 878s 9s/step - loss: 0.2413 - accuracy: 0.9033 - val_loss: 0.3833 - val_accuracy: 0.8625\n",
      "Epoch 55/100\n",
      "93/93 [==============================] - ETA: 0s - loss: 0.2405 - accuracy: 0.9036\n",
      "Epoch 00055: val_loss did not improve from 0.37242\n",
      "93/93 [==============================] - 738s 8s/step - loss: 0.2405 - accuracy: 0.9036 - val_loss: 0.4035 - val_accuracy: 0.8625\n",
      "Epoch 56/100\n",
      "93/93 [==============================] - ETA: 0s - loss: 0.2383 - accuracy: 0.9100\n",
      "Epoch 00056: val_loss did not improve from 0.37242\n",
      "93/93 [==============================] - 690s 7s/step - loss: 0.2383 - accuracy: 0.9100 - val_loss: 0.3833 - val_accuracy: 0.8625\n"
     ]
    },
    {
     "name": "stdout",
     "output_type": "stream",
     "text": [
      "Epoch 57/100\n",
      "93/93 [==============================] - ETA: 0s - loss: 0.2369 - accuracy: 0.9013\n",
      "Epoch 00057: val_loss did not improve from 0.37242\n",
      "93/93 [==============================] - 750s 8s/step - loss: 0.2369 - accuracy: 0.9013 - val_loss: 0.4245 - val_accuracy: 0.8585\n",
      "Epoch 58/100\n",
      "93/93 [==============================] - ETA: 0s - loss: 0.2323 - accuracy: 0.9080 \n",
      "Epoch 00058: val_loss did not improve from 0.37242\n",
      "93/93 [==============================] - 995s 11s/step - loss: 0.2323 - accuracy: 0.9080 - val_loss: 0.3748 - val_accuracy: 0.8706\n",
      "Wall time: 20h 43min 23s\n"
     ]
    }
   ],
   "source": [
    "%%time\n",
    "history = model.fit(\n",
    "    x_train, \n",
    "    y_train, \n",
    "    epochs = epoches, \n",
    "    batch_size = batch_size, \n",
    "    validation_data = (x_valid, y_valid),\n",
    "    callbacks = callbacks_list, \n",
    "    verbose = 1\n",
    ")"
   ]
  },
  {
   "cell_type": "markdown",
   "id": "04630fbd",
   "metadata": {},
   "source": [
    "**save mdoel**"
   ]
  },
  {
   "cell_type": "code",
   "execution_count": 14,
   "id": "d145341e",
   "metadata": {},
   "outputs": [
    {
     "name": "stdout",
     "output_type": "stream",
     "text": [
      "Wall time: 44.6 s\n"
     ]
    }
   ],
   "source": [
    "%%time\n",
    "model.save('custom.h5')"
   ]
  },
  {
   "cell_type": "markdown",
   "id": "b4a23547",
   "metadata": {},
   "source": [
    "**evaluate model**"
   ]
  },
  {
   "cell_type": "code",
   "execution_count": 15,
   "id": "448bcbde",
   "metadata": {},
   "outputs": [
    {
     "name": "stdout",
     "output_type": "stream",
     "text": [
      "29/29 [==============================] - 49s 2s/step - loss: 0.3602 - accuracy: 0.8631\n",
      "Wall time: 1min 28s\n"
     ]
    },
    {
     "data": {
      "text/plain": [
       "[0.36023595929145813, 0.8631465435028076]"
      ]
     },
     "execution_count": 15,
     "metadata": {},
     "output_type": "execute_result"
    }
   ],
   "source": [
    "%%time\n",
    "model.evaluate(x_test, y_test)"
   ]
  },
  {
   "cell_type": "markdown",
   "id": "801cd9f7",
   "metadata": {},
   "source": [
    "**plot graphs**"
   ]
  },
  {
   "cell_type": "code",
   "execution_count": 42,
   "id": "b48f8b3e",
   "metadata": {},
   "outputs": [],
   "source": [
    "def plt_learning_curve(history_, model_name, x_lim_max):\n",
    "    fig, ax = plt.subplots(figsize=(15,8))\n",
    "    \n",
    "    ax.plot(history_.history['accuracy'], color='b', label='training_accuracy')\n",
    "    ax.plot(history_.history['val_accuracy'], color='r', label='validation_accuracy')\n",
    "    \n",
    "    ax.plot(history_.history['loss'], color='g', label='training_loss')\n",
    "    ax.plot(history_.history['val_loss'], color='y', label='validation_loss')\n",
    "    \n",
    "    ax.legend(loc='best', shadow=True)\n",
    "    ax.set_title(model_name+' Learning Curves')\n",
    "    plt.xlabel(\"Epoch\")\n",
    "    plt.ylabel(\"Loss/Accuracy\")\n",
    "    ax.set_xlim(-5, x_lim_max)\n",
    "    ax.set_ylim(0,2)\n",
    "    ax.set_yticks([0, 0.5, 1, 1.5, 2, 2.5, 3, 3.5, 4])\n",
    "    plt.savefig(model_name+' Learning Curves')"
   ]
  },
  {
   "cell_type": "code",
   "execution_count": 43,
   "id": "896fb3a0",
   "metadata": {},
   "outputs": [
    {
     "data": {
      "image/png": "[encoded data removed]",
      "text/plain": [
       "<Figure size 1080x576 with 1 Axes>"
      ]
     },
     "metadata": {
      "needs_background": "light"
     },
     "output_type": "display_data"
    }
   ],
   "source": [
    "plt_learning_curve(history, 'Custom', 70)"
   ]
  },
  {
   "cell_type": "markdown",
   "id": "aeb02dca",
   "metadata": {},
   "source": [
    "**plot confusion matrix**"
   ]
  },
  {
   "cell_type": "code",
   "execution_count": 36,
   "id": "b11e4312",
   "metadata": {},
   "outputs": [
    {
     "name": "stdout",
     "output_type": "stream",
     "text": [
      "Wall time: 53.7 s\n"
     ]
    }
   ],
   "source": [
    "%%time\n",
    "pred = model.predict(x_test, batch_size = batch_size)\n",
    "pred = np.argmax(pred, axis=1)   \n",
    "cm = confusion_matrix(y_test.argmax(axis=1), pred)"
   ]
  },
  {
   "cell_type": "code",
   "execution_count": 39,
   "id": "e34478e2",
   "metadata": {},
   "outputs": [
    {
     "name": "stdout",
     "output_type": "stream",
     "text": [
      "Accuracy on Test Data: 0.86%\n",
      "Correct Predictions: 801\n",
      "Wrong Predictions: 127\n",
      "--------------------------------------------------------------------------------\n",
      "              precision    recall  f1-score   support\n",
      "\n",
      "           0       0.92      0.98      0.95       361\n",
      "           1       0.75      0.84      0.79       274\n",
      "           2       0.91      0.75      0.82       293\n",
      "\n",
      "    accuracy                           0.86       928\n",
      "   macro avg       0.86      0.85      0.85       928\n",
      "weighted avg       0.87      0.86      0.86       928\n",
      "\n",
      "Wall time: 182 ms\n"
     ]
    },
    {
     "data": {
      "image/png": "[encoded data removed]",
      "text/plain": [
       "<Figure size 720x576 with 2 Axes>"
      ]
     },
     "metadata": {
      "needs_background": "light"
     },
     "output_type": "display_data"
    }
   ],
   "source": [
    "%%time\n",
    "print('Accuracy on Test Data: %2.2f%%' % (accuracy_score(test, pred)))\n",
    "fig, ax=plt.subplots(figsize=(10, 8))\n",
    "classes=['NO DR','Moderate','Severe']\n",
    "sns.heatmap(cm,annot=True, fmt=\"d\",cmap=\"Reds\", xticklabels=classes, yticklabels=classes)\n",
    "ax.set_title('Confusion Matrix')\n",
    "plt.savefig('Confusion Matrix model 3')\n",
    "\n",
    "correct_pred = int(cm[0][0] + cm[1][1] + cm[2][2])\n",
    "wrong_pred = len(y_test) - correct_pred\n",
    "\n",
    "    \n",
    "print('Correct Predictions:', correct_pred)\n",
    "print('Wrong Predictions:', wrong_pred)\n",
    "    \n",
    "print('----'*20)\n",
    "print(classification_report(y_test.argmax(axis = 1), pred))"
   ]
  }
 ],
 "metadata": {
  "kernelspec": {
   "display_name": "Python 3 (ipykernel)",
   "language": "python",
   "name": "python3"
  },
  "language_info": {
   "codemirror_mode": {
    "name": "ipython",
    "version": 3
   },
   "file_extension": ".py",
   "mimetype": "text/x-python",
   "name": "python",
   "nbconvert_exporter": "python",
   "pygments_lexer": "ipython3",
   "version": "3.8.12"
  }
 },
 "nbformat": 4,
 "nbformat_minor": 5
}
